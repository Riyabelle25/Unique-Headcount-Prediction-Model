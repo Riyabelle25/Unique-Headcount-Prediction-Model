{
 "cells": [
  {
   "cell_type": "code",
   "execution_count": 40,
   "metadata": {},
   "outputs": [
    {
     "name": "stdout",
     "output_type": "stream",
     "text": [
      "Defaulting to user installation because normal site-packages is not writeable\n",
      "Collecting statsmodels\n",
      "  Downloading statsmodels-0.12.2-cp36-cp36m-manylinux1_x86_64.whl (9.5 MB)\n",
      "\u001b[K     |████████████████████████████████| 9.5 MB 83 kB/s eta 0:00:011\n",
      "\u001b[?25hRequirement already satisfied: pandas>=0.21 in /home/riya/.local/lib/python3.6/site-packages (from statsmodels) (1.1.5)\n",
      "Collecting patsy>=0.5\n",
      "  Downloading patsy-0.5.1-py2.py3-none-any.whl (231 kB)\n",
      "\u001b[K     |████████████████████████████████| 231 kB 1.2 MB/s eta 0:00:01\n",
      "\u001b[?25hRequirement already satisfied: numpy>=1.15 in /home/riya/.local/lib/python3.6/site-packages (from statsmodels) (1.18.2)\n",
      "Requirement already satisfied: scipy>=1.1 in /home/riya/.local/lib/python3.6/site-packages (from statsmodels) (1.5.4)\n",
      "Requirement already satisfied: pytz>=2017.2 in /usr/lib/python3/dist-packages (from pandas>=0.21->statsmodels) (2018.3)\n",
      "Requirement already satisfied: python-dateutil>=2.7.3 in /home/riya/.local/lib/python3.6/site-packages (from pandas>=0.21->statsmodels) (2.8.1)\n",
      "Requirement already satisfied: six in /home/riya/.local/lib/python3.6/site-packages (from patsy>=0.5->statsmodels) (1.14.0)\n",
      "Installing collected packages: patsy, statsmodels\n",
      "Successfully installed patsy-0.5.1 statsmodels-0.12.2\n"
     ]
    }
   ],
   "source": [
    "!pip install statsmodels"
   ]
  },
  {
   "cell_type": "code",
   "execution_count": 1,
   "metadata": {},
   "outputs": [],
   "source": [
    "import numpy as np\n",
    "import pandas as pd\n",
    "import matplotlib.pyplot as plt"
   ]
  },
  {
   "cell_type": "code",
   "execution_count": 2,
   "metadata": {},
   "outputs": [],
   "source": [
    "# Import label encoder \n",
    "from sklearn import preprocessing\n",
    "# label_encoder object knows how to understand word labels. \n",
    "label_encoder = preprocessing.LabelEncoder()\n",
    "# importing one hot encoder \n",
    "from sklearn.preprocessing import OneHotEncoder\n",
    "# creating one hot encoder object \n",
    "onehotencoder = OneHotEncoder()"
   ]
  },
  {
   "cell_type": "code",
   "execution_count": 3,
   "metadata": {},
   "outputs": [
    {
     "data": {
      "text/html": [
       "<div>\n",
       "<style scoped>\n",
       "    .dataframe tbody tr th:only-of-type {\n",
       "        vertical-align: middle;\n",
       "    }\n",
       "\n",
       "    .dataframe tbody tr th {\n",
       "        vertical-align: top;\n",
       "    }\n",
       "\n",
       "    .dataframe thead th {\n",
       "        text-align: right;\n",
       "    }\n",
       "</style>\n",
       "<table border=\"1\" class=\"dataframe\">\n",
       "  <thead>\n",
       "    <tr style=\"text-align: right;\">\n",
       "      <th></th>\n",
       "      <th>Id</th>\n",
       "      <th>Fiscal Year</th>\n",
       "      <th>Term Type</th>\n",
       "      <th>Career</th>\n",
       "      <th>Program Level</th>\n",
       "      <th>Study Year</th>\n",
       "      <th>Campus_Id</th>\n",
       "      <th>Faculty Group</th>\n",
       "      <th>Program Grouping</th>\n",
       "      <th>Coop Regular</th>\n",
       "      <th>WorkTerm</th>\n",
       "      <th>Attendance</th>\n",
       "      <th>Visa Status</th>\n",
       "      <th>Gender</th>\n",
       "      <th>Unique Headcount</th>\n",
       "    </tr>\n",
       "  </thead>\n",
       "  <tbody>\n",
       "    <tr>\n",
       "      <th>72244</th>\n",
       "      <td>72244</td>\n",
       "      <td>2014/15</td>\n",
       "      <td>Winter term</td>\n",
       "      <td>Undergraduate</td>\n",
       "      <td>Non-Degree</td>\n",
       "      <td>N</td>\n",
       "      <td>4</td>\n",
       "      <td>SCI</td>\n",
       "      <td>Science</td>\n",
       "      <td>Regular</td>\n",
       "      <td>Academic Term</td>\n",
       "      <td>Part-Time</td>\n",
       "      <td>Canadian</td>\n",
       "      <td>Male</td>\n",
       "      <td>25</td>\n",
       "    </tr>\n",
       "    <tr>\n",
       "      <th>72245</th>\n",
       "      <td>72245</td>\n",
       "      <td>2014/15</td>\n",
       "      <td>Winter term</td>\n",
       "      <td>Undergraduate</td>\n",
       "      <td>Non-Degree</td>\n",
       "      <td>N</td>\n",
       "      <td>4</td>\n",
       "      <td>SCI</td>\n",
       "      <td>Science</td>\n",
       "      <td>Regular</td>\n",
       "      <td>Academic Term</td>\n",
       "      <td>Part-Time</td>\n",
       "      <td>Canadian</td>\n",
       "      <td>Female</td>\n",
       "      <td>27</td>\n",
       "    </tr>\n",
       "    <tr>\n",
       "      <th>72246</th>\n",
       "      <td>72246</td>\n",
       "      <td>2014/15</td>\n",
       "      <td>Winter term</td>\n",
       "      <td>Undergraduate</td>\n",
       "      <td>Non-Degree</td>\n",
       "      <td>N</td>\n",
       "      <td>4</td>\n",
       "      <td>SCI</td>\n",
       "      <td>Science</td>\n",
       "      <td>Regular</td>\n",
       "      <td>Academic Term</td>\n",
       "      <td>Part-Time</td>\n",
       "      <td>Canadian Permanent Resident</td>\n",
       "      <td>Female</td>\n",
       "      <td>1</td>\n",
       "    </tr>\n",
       "    <tr>\n",
       "      <th>72247</th>\n",
       "      <td>72247</td>\n",
       "      <td>2014/15</td>\n",
       "      <td>Winter term</td>\n",
       "      <td>Undergraduate</td>\n",
       "      <td>Non-Degree</td>\n",
       "      <td>N</td>\n",
       "      <td>4</td>\n",
       "      <td>SCI</td>\n",
       "      <td>Science</td>\n",
       "      <td>Regular</td>\n",
       "      <td>Academic Term</td>\n",
       "      <td>Part-Time</td>\n",
       "      <td>International</td>\n",
       "      <td>Male</td>\n",
       "      <td>30</td>\n",
       "    </tr>\n",
       "    <tr>\n",
       "      <th>72248</th>\n",
       "      <td>72248</td>\n",
       "      <td>2014/15</td>\n",
       "      <td>Winter term</td>\n",
       "      <td>Undergraduate</td>\n",
       "      <td>Non-Degree</td>\n",
       "      <td>N</td>\n",
       "      <td>4</td>\n",
       "      <td>SCI</td>\n",
       "      <td>Science</td>\n",
       "      <td>Regular</td>\n",
       "      <td>Academic Term</td>\n",
       "      <td>Part-Time</td>\n",
       "      <td>International</td>\n",
       "      <td>Female</td>\n",
       "      <td>18</td>\n",
       "    </tr>\n",
       "  </tbody>\n",
       "</table>\n",
       "</div>"
      ],
      "text/plain": [
       "          Id Fiscal Year    Term Type         Career Program Level Study Year  \\\n",
       "72244  72244     2014/15  Winter term  Undergraduate    Non-Degree          N   \n",
       "72245  72245     2014/15  Winter term  Undergraduate    Non-Degree          N   \n",
       "72246  72246     2014/15  Winter term  Undergraduate    Non-Degree          N   \n",
       "72247  72247     2014/15  Winter term  Undergraduate    Non-Degree          N   \n",
       "72248  72248     2014/15  Winter term  Undergraduate    Non-Degree          N   \n",
       "\n",
       "       Campus_Id Faculty Group Program Grouping Coop Regular       WorkTerm  \\\n",
       "72244          4           SCI          Science      Regular  Academic Term   \n",
       "72245          4           SCI          Science      Regular  Academic Term   \n",
       "72246          4           SCI          Science      Regular  Academic Term   \n",
       "72247          4           SCI          Science      Regular  Academic Term   \n",
       "72248          4           SCI          Science      Regular  Academic Term   \n",
       "\n",
       "      Attendance                  Visa Status  Gender  Unique Headcount  \n",
       "72244  Part-Time                     Canadian    Male                25  \n",
       "72245  Part-Time                     Canadian  Female                27  \n",
       "72246  Part-Time  Canadian Permanent Resident  Female                 1  \n",
       "72247  Part-Time                International    Male                30  \n",
       "72248  Part-Time                International  Female                18  "
      ]
     },
     "execution_count": 3,
     "metadata": {},
     "output_type": "execute_result"
    }
   ],
   "source": [
    "df = pd.read_csv(\"wells_fargo_train.csv\")\n",
    "df.tail()"
   ]
  },
  {
   "cell_type": "code",
   "execution_count": 4,
   "metadata": {},
   "outputs": [
    {
     "name": "stdout",
     "output_type": "stream",
     "text": [
      "Id 72249\n",
      "Fiscal Year 7\n",
      "['2008/09' '2009/10' '2010/11' '2011/12' '2012/13' '2013/14' '2014/15']\n",
      "Term Type 3\n",
      "['Fall term' 'Spring term' 'Winter term']\n",
      "Career 2\n",
      "['Graduate' 'Undergraduate']\n",
      "Program Level 5\n",
      "['Doctoral' 'Masters' 'Non-Degree' 'Qualifying' 'Bachelors']\n",
      "Study Year 8\n",
      "['D' 'M' 'N' '1' '2' '3' '4' '5']\n",
      "Campus_Id 5\n",
      "[4 0 2 1 3]\n",
      "Faculty Group 10\n",
      "['AHS' 'ARTS' 'ENG' 'ENV' 'MATH' 'SCI' 'THL' 'CFM' 'SE' 'REN']\n",
      "Program Grouping 147\n",
      "Coop Regular 2\n",
      "['Regular' 'Co-op']\n",
      "WorkTerm 2\n",
      "['Academic Term' 'Work Term']\n",
      "Attendance 3\n",
      "['Full-Time' 'Part-Time' 'Unknown Attendance']\n",
      "Visa Status 3\n",
      "['Canadian' 'International' 'Canadian Permanent Resident']\n",
      "Gender 3\n",
      "['Male' 'Female' 'Another Gender Identity']\n",
      "Unique Headcount 214\n"
     ]
    }
   ],
   "source": [
    "for col in df.columns:\n",
    "    print(col, len(df[col].unique()))\n",
    "    if len(df[col].unique())<11: print(df[col].unique())"
   ]
  },
  {
   "cell_type": "code",
   "execution_count": null,
   "metadata": {},
   "outputs": [],
   "source": [
    "'''Seeing data ka info:\n",
    "Total col: 15\n",
    "    ORDINAL(hence LABEL-Encoding): Career, Program Level, Attendance\n",
    "    \n",
    "    ONE-HOT Encoding(less hona hai): Term Type, Faculty Group, Coop Reg, Work Term, Visa,Gender\n",
    "    \n",
    "    Program Grouping?!\n",
    "    \n",
    "    NUMERICAL: year,study year,campus id,id,headcount\n",
    "    \n",
    "'''"
   ]
  },
  {
   "cell_type": "code",
   "execution_count": 5,
   "metadata": {},
   "outputs": [
    {
     "data": {
      "text/plain": [
       "<AxesSubplot:xlabel='Id'>"
      ]
     },
     "execution_count": 5,
     "metadata": {},
     "output_type": "execute_result"
    },
    {
     "data": {
      "image/png": "[encoded data removed]",
      "text/plain": [
       "<Figure size 432x288 with 1 Axes>"
      ]
     },
     "metadata": {},
     "output_type": "display_data"
    }
   ],
   "source": [
    "df.head(10).plot.bar('Id','Unique Headcount')"
   ]
  },
  {
   "cell_type": "code",
   "execution_count": 6,
   "metadata": {},
   "outputs": [
    {
     "name": "stdout",
     "output_type": "stream",
     "text": [
      "Index(['Term Type_0', 'Term Type_1', 'Term Type_2', 'Faculty Group_0',\n",
      "       'Faculty Group_1', 'Faculty Group_2', 'Faculty Group_3',\n",
      "       'Faculty Group_4', 'Faculty Group_5', 'Faculty Group_6',\n",
      "       ...\n",
      "       'Coop Regular_0', 'Coop Regular_1', 'WorkTerm_0', 'WorkTerm_1',\n",
      "       'Visa Status_0', 'Visa Status_1', 'Visa Status_2', 'Gender_0',\n",
      "       'Gender_1', 'Gender_2'],\n",
      "      dtype='object', length=170)\n"
     ]
    }
   ],
   "source": [
    "X=df.drop(['Career', 'Program Level', 'Attendance','Fiscal Year','Study Year','Campus_Id','Id','Unique Headcount'],axis=1)\n",
    "\n",
    "df_OneHotEn = X\n",
    "\n",
    "for col in X.columns:\n",
    "    \n",
    "    # reshape the 1-D col array to 2-D as fit_transform expects 2-D and finally fit the object \n",
    "    Y = onehotencoder.fit_transform(X[col].values.reshape(-1,1)).toarray()\n",
    "    \n",
    "    # To add this back into the original dataframe \n",
    "    dfOneHot = pd.DataFrame(Y, columns = [(\"%s_\"%col +str(int(i))) for i in range(len(X[col].unique()))]) \n",
    "    df1 = pd.concat([df_OneHotEn, dfOneHot], axis=1)\n",
    "    \n",
    "    # dropping the country column \n",
    "    df_OneHotEn= df1.drop([col], axis=1) \n",
    "\n",
    "print(df_OneHotEn.columns)    "
   ]
  },
  {
   "cell_type": "code",
   "execution_count": 8,
   "metadata": {},
   "outputs": [],
   "source": [
    "df_OneHotEn.shape\n",
    "df = pd.concat([df_OneHotEn, df], axis=1)"
   ]
  },
  {
   "cell_type": "code",
   "execution_count": 13,
   "metadata": {},
   "outputs": [
    {
     "name": "stdout",
     "output_type": "stream",
     "text": [
      "r_sq 0.3033177561930859\n",
      "r_sq 0.2831279234909623\n",
      "r_sq 0.4536485312237205\n"
     ]
    }
   ],
   "source": [
    "import statsmodels.api as sm\n",
    "\n",
    "def calculate_vif(data):\n",
    "    vif_df = pd.DataFrame(columns = ['Var', 'Vif'])\n",
    "    x_var_names = data.columns\n",
    "    for i in range(0, x_var_names.shape[0]):\n",
    "        y = data[x_var_names[i]]\n",
    "        x = data[x_var_names.drop([x_var_names[i]])]\n",
    "\n",
    "        r_squared = sm.OLS(y,x).fit().rsquared\n",
    "        print(\"r_sq\",r_squared)\n",
    "        if 1!=r_squared:\n",
    "            vif = round(1/(1-r_squared),2)\n",
    "            vif_df.loc[i] = [x_var_names[i], vif]\n",
    "        else: \n",
    "            print(\"inf\",x_var_names[i])\n",
    "            vif = \"inf\"\n",
    "            vif_df.loc[i] = [x_var_names[i], vif]\n",
    "            \n",
    "    return vif_df.sort_values(by = 'Vif', axis = 0, ascending=False, inplace=False)\n",
    "\n",
    "res = calculate_vif(df[['Visa Status_1', 'Visa Status_2','Campus_Id']])"
   ]
  },
  {
   "cell_type": "code",
   "execution_count": 14,
   "metadata": {},
   "outputs": [
    {
     "data": {
      "text/html": [
       "<div>\n",
       "<style scoped>\n",
       "    .dataframe tbody tr th:only-of-type {\n",
       "        vertical-align: middle;\n",
       "    }\n",
       "\n",
       "    .dataframe tbody tr th {\n",
       "        vertical-align: top;\n",
       "    }\n",
       "\n",
       "    .dataframe thead th {\n",
       "        text-align: right;\n",
       "    }\n",
       "</style>\n",
       "<table border=\"1\" class=\"dataframe\">\n",
       "  <thead>\n",
       "    <tr style=\"text-align: right;\">\n",
       "      <th></th>\n",
       "      <th>Var</th>\n",
       "      <th>Vif</th>\n",
       "    </tr>\n",
       "  </thead>\n",
       "  <tbody>\n",
       "    <tr>\n",
       "      <th>2</th>\n",
       "      <td>Campus_Id</td>\n",
       "      <td>1.83</td>\n",
       "    </tr>\n",
       "    <tr>\n",
       "      <th>0</th>\n",
       "      <td>Visa Status_1</td>\n",
       "      <td>1.44</td>\n",
       "    </tr>\n",
       "    <tr>\n",
       "      <th>1</th>\n",
       "      <td>Visa Status_2</td>\n",
       "      <td>1.39</td>\n",
       "    </tr>\n",
       "  </tbody>\n",
       "</table>\n",
       "</div>"
      ],
      "text/plain": [
       "             Var   Vif\n",
       "2      Campus_Id  1.83\n",
       "0  Visa Status_1  1.44\n",
       "1  Visa Status_2  1.39"
      ]
     },
     "execution_count": 14,
     "metadata": {},
     "output_type": "execute_result"
    }
   ],
   "source": [
    "res"
   ]
  },
  {
   "cell_type": "code",
   "execution_count": null,
   "metadata": {},
   "outputs": [],
   "source": []
  }
 ],
 "metadata": {
  "kernelspec": {
   "display_name": "Python 3",
   "language": "python",
   "name": "python3"
  },
  "language_info": {
   "codemirror_mode": {
    "name": "ipython",
    "version": 3
   },
   "file_extension": ".py",
   "mimetype": "text/x-python",
   "name": "python",
   "nbconvert_exporter": "python",
   "pygments_lexer": "ipython3",
   "version": "3.6.9"
  }
 },
 "nbformat": 4,
 "nbformat_minor": 2
}
